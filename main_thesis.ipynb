{
 "cells": [
  {
   "cell_type": "code",
   "execution_count": null,
   "id": "710054a2",
   "metadata": {},
   "outputs": [],
   "source": [
    "from experiments.mqar_benchmark import run_mqar_benchmark\n",
    "from experiments.ch_formal_benchmark import run_formal_benchmark\n",
    "import torch\n",
    "\n",
    "DEVICE_STR = \"cuda\" if torch.cuda.is_available() else \"cpu\"\n",
    "print(f\"Running on: {DEVICE_STR}\")\n"
   ]
  },
  {
   "cell_type": "code",
   "execution_count": null,
   "id": "9a48a9aa",
   "metadata": {},
   "outputs": [],
   "source": [
    "print(\"\\n==========================================================\")\n",
    "print(\"STARTING MQAR BENCHMARK  : Scratch xLSTM vs. Library xLSTM\")\n",
    "print(\"==========================================================\")\n",
    "mqar_results = run_mqar_benchmark(device_str=DEVICE_STR,\n",
    "                                  benchmark_type=\"hybrid_vs_xlstm\")\n",
    "print(\"\\nMQAR – Final Accuracy:\")\n",
    "for name, acc in mqar_results.items():\n",
    "    print(f\"{name}: {acc:.4%}\")\n"
   ]
  },
  {
   "cell_type": "code",
   "execution_count": null,
   "id": "0e2bbf9a",
   "metadata": {},
   "outputs": [],
   "source": [
    "print(\"\\n================================================================\")\n",
    "print(\"STARTING FORMAL-LANG BENCHMARK : Scratch xLSTM vs. Library xLSTM\")\n",
    "print(\"================================================================\")\n",
    "formal_results = run_formal_benchmark(device_str=DEVICE_STR,\n",
    "                                      benchmark_type=\"xlstm_vs_lib\")\n",
    "print(\"\\nFormal-Language – Final Accuracy:\")\n",
    "for name, acc in formal_results.items():\n",
    "    print(f\"{name}: {acc:.4%}\")\n"
   ]
  }
 ],
 "metadata": {
  "kernelspec": {
   "display_name": "Python 3",
   "language": "python",
   "name": "python3"
  },
  "language_info": {
   "codemirror_mode": {
    "name": "ipython",
    "version": 3
   },
   "file_extension": ".py",
   "mimetype": "text/x-python",
   "name": "python",
   "nbconvert_exporter": "python",
   "pygments_lexer": "ipython3",
   "version": "3.12.7"
  }
 },
 "nbformat": 4,
 "nbformat_minor": 5
}
